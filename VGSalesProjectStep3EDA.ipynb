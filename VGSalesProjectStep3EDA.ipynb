{
 "cells": [
  {
   "cell_type": "markdown",
   "metadata": {},
   "source": [
    "# Step 3: Exploratory Data Analysis"
   ]
  },
  {
   "cell_type": "code",
   "execution_count": 1,
   "metadata": {},
   "outputs": [],
   "source": [
    "import pandas as pd\n",
    "import matplotlib.pyplot as plt\n",
    "import seaborn as sns"
   ]
  },
  {
   "cell_type": "code",
   "execution_count": 2,
   "metadata": {},
   "outputs": [
    {
     "data": {
      "text/html": [
       "<div>\n",
       "<style scoped>\n",
       "    .dataframe tbody tr th:only-of-type {\n",
       "        vertical-align: middle;\n",
       "    }\n",
       "\n",
       "    .dataframe tbody tr th {\n",
       "        vertical-align: top;\n",
       "    }\n",
       "\n",
       "    .dataframe thead th {\n",
       "        text-align: right;\n",
       "    }\n",
       "</style>\n",
       "<table border=\"1\" class=\"dataframe\">\n",
       "  <thead>\n",
       "    <tr style=\"text-align: right;\">\n",
       "      <th></th>\n",
       "      <th>Title</th>\n",
       "      <th>Genre</th>\n",
       "      <th>Console</th>\n",
       "      <th>Publisher</th>\n",
       "      <th>Total Sales (m)</th>\n",
       "      <th>NA Sales (m)</th>\n",
       "      <th>EU Sales (m)</th>\n",
       "      <th>JP Sales (m)</th>\n",
       "      <th>Other Sales (m)</th>\n",
       "      <th>Release Month</th>\n",
       "      <th>Release Year</th>\n",
       "    </tr>\n",
       "  </thead>\n",
       "  <tbody>\n",
       "    <tr>\n",
       "      <th>0</th>\n",
       "      <td>Tomb Raider II</td>\n",
       "      <td>Adventure</td>\n",
       "      <td>PS</td>\n",
       "      <td>Eidos Interactive</td>\n",
       "      <td>5.24</td>\n",
       "      <td>2.30</td>\n",
       "      <td>2.46</td>\n",
       "      <td>0.20</td>\n",
       "      <td>0.28</td>\n",
       "      <td>10</td>\n",
       "      <td>1997</td>\n",
       "    </tr>\n",
       "    <tr>\n",
       "      <th>1</th>\n",
       "      <td>LEGO Indiana Jones: The Original Adventures</td>\n",
       "      <td>Adventure</td>\n",
       "      <td>X360</td>\n",
       "      <td>LucasArts</td>\n",
       "      <td>3.76</td>\n",
       "      <td>2.40</td>\n",
       "      <td>1.01</td>\n",
       "      <td>0.00</td>\n",
       "      <td>0.36</td>\n",
       "      <td>6</td>\n",
       "      <td>2008</td>\n",
       "    </tr>\n",
       "    <tr>\n",
       "      <th>2</th>\n",
       "      <td>Tomb Raider III: Adventures of Lara Croft</td>\n",
       "      <td>Adventure</td>\n",
       "      <td>PS</td>\n",
       "      <td>Eidos Interactive</td>\n",
       "      <td>3.54</td>\n",
       "      <td>1.66</td>\n",
       "      <td>1.58</td>\n",
       "      <td>0.12</td>\n",
       "      <td>0.18</td>\n",
       "      <td>11</td>\n",
       "      <td>1998</td>\n",
       "    </tr>\n",
       "    <tr>\n",
       "      <th>3</th>\n",
       "      <td>LEGO Batman: The Videogame</td>\n",
       "      <td>Adventure</td>\n",
       "      <td>X360</td>\n",
       "      <td>Warner Bros. Interactive</td>\n",
       "      <td>3.44</td>\n",
       "      <td>2.07</td>\n",
       "      <td>1.04</td>\n",
       "      <td>0.00</td>\n",
       "      <td>0.34</td>\n",
       "      <td>9</td>\n",
       "      <td>2008</td>\n",
       "    </tr>\n",
       "    <tr>\n",
       "      <th>4</th>\n",
       "      <td>Rugrats: Search For Reptar</td>\n",
       "      <td>Adventure</td>\n",
       "      <td>PS</td>\n",
       "      <td>THQ</td>\n",
       "      <td>3.34</td>\n",
       "      <td>1.63</td>\n",
       "      <td>1.53</td>\n",
       "      <td>0.00</td>\n",
       "      <td>0.18</td>\n",
       "      <td>10</td>\n",
       "      <td>1998</td>\n",
       "    </tr>\n",
       "  </tbody>\n",
       "</table>\n",
       "</div>"
      ],
      "text/plain": [
       "                                         Title      Genre Console  \\\n",
       "0                               Tomb Raider II  Adventure      PS   \n",
       "1  LEGO Indiana Jones: The Original Adventures  Adventure    X360   \n",
       "2    Tomb Raider III: Adventures of Lara Croft  Adventure      PS   \n",
       "3                   LEGO Batman: The Videogame  Adventure    X360   \n",
       "4                   Rugrats: Search For Reptar  Adventure      PS   \n",
       "\n",
       "                  Publisher  Total Sales (m)  NA Sales (m)  EU Sales (m)  \\\n",
       "0         Eidos Interactive             5.24          2.30          2.46   \n",
       "1                 LucasArts             3.76          2.40          1.01   \n",
       "2         Eidos Interactive             3.54          1.66          1.58   \n",
       "3  Warner Bros. Interactive             3.44          2.07          1.04   \n",
       "4                       THQ             3.34          1.63          1.53   \n",
       "\n",
       "   JP Sales (m)  Other Sales (m)  Release Month  Release Year  \n",
       "0          0.20             0.28             10          1997  \n",
       "1          0.00             0.36              6          2008  \n",
       "2          0.12             0.18             11          1998  \n",
       "3          0.00             0.34              9          2008  \n",
       "4          0.00             0.18             10          1998  "
      ]
     },
     "execution_count": 2,
     "metadata": {},
     "output_type": "execute_result"
    }
   ],
   "source": [
    "df = pd.read_csv(\"game_info_cleaned.csv\")\n",
    "df.head()"
   ]
  },
  {
   "cell_type": "code",
   "execution_count": 3,
   "metadata": {},
   "outputs": [
    {
     "data": {
      "text/html": [
       "<div>\n",
       "<style scoped>\n",
       "    .dataframe tbody tr th:only-of-type {\n",
       "        vertical-align: middle;\n",
       "    }\n",
       "\n",
       "    .dataframe tbody tr th {\n",
       "        vertical-align: top;\n",
       "    }\n",
       "\n",
       "    .dataframe thead th {\n",
       "        text-align: right;\n",
       "    }\n",
       "</style>\n",
       "<table border=\"1\" class=\"dataframe\">\n",
       "  <thead>\n",
       "    <tr style=\"text-align: right;\">\n",
       "      <th></th>\n",
       "      <th>Total Sales (m)</th>\n",
       "      <th>NA Sales (m)</th>\n",
       "      <th>EU Sales (m)</th>\n",
       "      <th>JP Sales (m)</th>\n",
       "      <th>Other Sales (m)</th>\n",
       "      <th>Release Month</th>\n",
       "      <th>Release Year</th>\n",
       "    </tr>\n",
       "  </thead>\n",
       "  <tbody>\n",
       "    <tr>\n",
       "      <th>count</th>\n",
       "      <td>17862.000000</td>\n",
       "      <td>17862.000000</td>\n",
       "      <td>17862.000000</td>\n",
       "      <td>17862.000000</td>\n",
       "      <td>17862.000000</td>\n",
       "      <td>17862.000000</td>\n",
       "      <td>17862.000000</td>\n",
       "    </tr>\n",
       "    <tr>\n",
       "      <th>mean</th>\n",
       "      <td>0.385777</td>\n",
       "      <td>0.194965</td>\n",
       "      <td>0.111179</td>\n",
       "      <td>0.041703</td>\n",
       "      <td>0.037676</td>\n",
       "      <td>7.311723</td>\n",
       "      <td>2007.624510</td>\n",
       "    </tr>\n",
       "    <tr>\n",
       "      <th>std</th>\n",
       "      <td>0.840881</td>\n",
       "      <td>0.444045</td>\n",
       "      <td>0.343675</td>\n",
       "      <td>0.121677</td>\n",
       "      <td>0.118876</td>\n",
       "      <td>3.402150</td>\n",
       "      <td>6.211403</td>\n",
       "    </tr>\n",
       "    <tr>\n",
       "      <th>min</th>\n",
       "      <td>0.010000</td>\n",
       "      <td>0.000000</td>\n",
       "      <td>0.000000</td>\n",
       "      <td>0.000000</td>\n",
       "      <td>0.000000</td>\n",
       "      <td>1.000000</td>\n",
       "      <td>1970.000000</td>\n",
       "    </tr>\n",
       "    <tr>\n",
       "      <th>25%</th>\n",
       "      <td>0.050000</td>\n",
       "      <td>0.000000</td>\n",
       "      <td>0.000000</td>\n",
       "      <td>0.000000</td>\n",
       "      <td>0.000000</td>\n",
       "      <td>4.000000</td>\n",
       "      <td>2004.000000</td>\n",
       "    </tr>\n",
       "    <tr>\n",
       "      <th>50%</th>\n",
       "      <td>0.140000</td>\n",
       "      <td>0.060000</td>\n",
       "      <td>0.020000</td>\n",
       "      <td>0.000000</td>\n",
       "      <td>0.010000</td>\n",
       "      <td>8.000000</td>\n",
       "      <td>2008.000000</td>\n",
       "    </tr>\n",
       "    <tr>\n",
       "      <th>75%</th>\n",
       "      <td>0.390000</td>\n",
       "      <td>0.190000</td>\n",
       "      <td>0.090000</td>\n",
       "      <td>0.030000</td>\n",
       "      <td>0.030000</td>\n",
       "      <td>10.000000</td>\n",
       "      <td>2011.000000</td>\n",
       "    </tr>\n",
       "    <tr>\n",
       "      <th>max</th>\n",
       "      <td>20.320000</td>\n",
       "      <td>9.760000</td>\n",
       "      <td>9.850000</td>\n",
       "      <td>2.170000</td>\n",
       "      <td>3.120000</td>\n",
       "      <td>12.000000</td>\n",
       "      <td>2020.000000</td>\n",
       "    </tr>\n",
       "  </tbody>\n",
       "</table>\n",
       "</div>"
      ],
      "text/plain": [
       "       Total Sales (m)  NA Sales (m)  EU Sales (m)  JP Sales (m)  \\\n",
       "count     17862.000000  17862.000000  17862.000000  17862.000000   \n",
       "mean          0.385777      0.194965      0.111179      0.041703   \n",
       "std           0.840881      0.444045      0.343675      0.121677   \n",
       "min           0.010000      0.000000      0.000000      0.000000   \n",
       "25%           0.050000      0.000000      0.000000      0.000000   \n",
       "50%           0.140000      0.060000      0.020000      0.000000   \n",
       "75%           0.390000      0.190000      0.090000      0.030000   \n",
       "max          20.320000      9.760000      9.850000      2.170000   \n",
       "\n",
       "       Other Sales (m)  Release Month  Release Year  \n",
       "count     17862.000000   17862.000000  17862.000000  \n",
       "mean          0.037676       7.311723   2007.624510  \n",
       "std           0.118876       3.402150      6.211403  \n",
       "min           0.000000       1.000000   1970.000000  \n",
       "25%           0.000000       4.000000   2004.000000  \n",
       "50%           0.010000       8.000000   2008.000000  \n",
       "75%           0.030000      10.000000   2011.000000  \n",
       "max           3.120000      12.000000   2020.000000  "
      ]
     },
     "execution_count": 3,
     "metadata": {},
     "output_type": "execute_result"
    }
   ],
   "source": [
    "df.describe()"
   ]
  },
  {
   "cell_type": "code",
   "execution_count": 4,
   "metadata": {},
   "outputs": [
    {
     "data": {
      "text/plain": [
       "Index(['Title', 'Genre', 'Console', 'Publisher', 'Total Sales (m)',\n",
       "       'NA Sales (m)', 'EU Sales (m)', 'JP Sales (m)', 'Other Sales (m)',\n",
       "       'Release Month', 'Release Year'],\n",
       "      dtype='object')"
      ]
     },
     "execution_count": 4,
     "metadata": {},
     "output_type": "execute_result"
    }
   ],
   "source": [
    "df.columns"
   ]
  },
  {
   "cell_type": "markdown",
   "metadata": {},
   "source": [
    "### We will first use frequency tables, bar graphs, and histograms to obtain a better understanding of our data\n",
    "#### We will look at:\n",
    "#### 1) The frequency dist. of genres, consoles, publishers, release years, and titles\n",
    "#### 2) The dist. through a histogram of the Total Sales, NA Sales, EU Sales, JP Sales, amd Other Sales"
   ]
  },
  {
   "cell_type": "markdown",
   "metadata": {},
   "source": [
    "## Frequency Dist. of Genres"
   ]
  },
  {
   "cell_type": "code",
   "execution_count": null,
   "metadata": {},
   "outputs": [],
   "source": []
  },
  {
   "cell_type": "markdown",
   "metadata": {},
   "source": [
    "## Frequency Dist. of Consoles"
   ]
  },
  {
   "cell_type": "code",
   "execution_count": null,
   "metadata": {},
   "outputs": [],
   "source": []
  },
  {
   "cell_type": "markdown",
   "metadata": {},
   "source": [
    "## Frequency Dist. of Release Years"
   ]
  },
  {
   "cell_type": "code",
   "execution_count": null,
   "metadata": {},
   "outputs": [],
   "source": []
  },
  {
   "cell_type": "markdown",
   "metadata": {},
   "source": [
    "## Frequency Dist. of Publishers"
   ]
  },
  {
   "cell_type": "code",
   "execution_count": null,
   "metadata": {},
   "outputs": [],
   "source": []
  },
  {
   "cell_type": "markdown",
   "metadata": {},
   "source": [
    "## Histogram of Total Sales"
   ]
  },
  {
   "cell_type": "code",
   "execution_count": null,
   "metadata": {},
   "outputs": [],
   "source": []
  },
  {
   "cell_type": "markdown",
   "metadata": {},
   "source": [
    "## Histogram of NA sales"
   ]
  },
  {
   "cell_type": "code",
   "execution_count": null,
   "metadata": {},
   "outputs": [],
   "source": []
  },
  {
   "cell_type": "markdown",
   "metadata": {},
   "source": [
    "## Histogram of EU Sales"
   ]
  },
  {
   "cell_type": "code",
   "execution_count": null,
   "metadata": {},
   "outputs": [],
   "source": []
  },
  {
   "cell_type": "markdown",
   "metadata": {},
   "source": [
    "## Histogram of Pal Sales"
   ]
  },
  {
   "cell_type": "code",
   "execution_count": null,
   "metadata": {},
   "outputs": [],
   "source": []
  },
  {
   "cell_type": "markdown",
   "metadata": {},
   "source": [
    "## Histogram of Other Sales"
   ]
  },
  {
   "cell_type": "code",
   "execution_count": null,
   "metadata": {},
   "outputs": [],
   "source": []
  },
  {
   "cell_type": "markdown",
   "metadata": {},
   "source": [
    "### We will next explore further and attempt to gain insight from our data\n",
    "#### We will look at:\n",
    "#### 1) Total Sales by Genre, Total Sales by Console, Total Sales by Publisher\n",
    "#### 2) Best Selling Games worldwide, per country grouping, and per year\n",
    "#### 3) "
   ]
  },
  {
   "cell_type": "code",
   "execution_count": 5,
   "metadata": {},
   "outputs": [
    {
     "data": {
      "image/png": "[encoded data removed]",
      "text/plain": [
       "<Figure size 864x648 with 1 Axes>"
      ]
     },
     "metadata": {
      "needs_background": "light"
     },
     "output_type": "display_data"
    }
   ],
   "source": [
    "plt.figure(figsize =(12,9))\n",
    "plt.bar(x = df[\"Genre\"], \n",
    "        height = df[\"Total Sales (m)\"],\n",
    "       color = \"midnightblue\")\n",
    "plt.xticks(rotation = 85, fontsize = 13)\n",
    "plt.yticks(fontsize = 13)\n",
    "plt.title(\"Total Sales(m) by Genre\", fontsize = 16, fontweight = \"bold\")\n",
    "plt.ylabel(\"Total Sales(m)\", fontsize = 13)\n",
    "#plt.savefig(\"SalesByGenre(WW).png\")\n",
    "plt.show()"
   ]
  },
  {
   "cell_type": "code",
   "execution_count": null,
   "metadata": {},
   "outputs": [],
   "source": []
  },
  {
   "cell_type": "code",
   "execution_count": null,
   "metadata": {},
   "outputs": [],
   "source": []
  }
 ],
 "metadata": {
  "kernelspec": {
   "display_name": "Python 3",
   "language": "python",
   "name": "python3"
  },
  "language_info": {
   "codemirror_mode": {
    "name": "ipython",
    "version": 3
   },
   "file_extension": ".py",
   "mimetype": "text/x-python",
   "name": "python",
   "nbconvert_exporter": "python",
   "pygments_lexer": "ipython3",
   "version": "3.8.3"
  }
 },
 "nbformat": 4,
 "nbformat_minor": 4
}
